{
 "cells": [
  {
   "cell_type": "code",
   "execution_count": 2,
   "metadata": {},
   "outputs": [],
   "source": [
    "import pandas as pan;\n",
    "import numpy as np;\n",
    "import matplotlib.pyplot as plotter;\n",
    "import seaborn as sns;\n",
    "from sklearn.preprocessing import PolynomialFeatures;\n",
    "from sklearn.model_selection import train_test_split;\n",
    "from sklearn.metrics import mean_squared_error, mean_absolute_error;\n",
    "from sklearn.linear_model import LinearRegression;\n",
    "from joblib import dump, load;"
   ]
  },
  {
   "cell_type": "code",
   "execution_count": 3,
   "metadata": {},
   "outputs": [],
   "source": [
    "matrix_data = pan.read_csv(\"Advertising.csv\");"
   ]
  },
  {
   "cell_type": "code",
   "execution_count": 4,
   "metadata": {},
   "outputs": [],
   "source": [
    "label = matrix_data[\"sales\"];\n",
    "features = matrix_data.drop(\"sales\", axis = 1);"
   ]
  },
  {
   "cell_type": "code",
   "execution_count": 5,
   "metadata": {},
   "outputs": [],
   "source": [
    "polynomial_converter = PolynomialFeatures(degree = 2, include_bias= False);"
   ]
  },
  {
   "cell_type": "code",
   "execution_count": 6,
   "metadata": {},
   "outputs": [],
   "source": [
    "polynomial_converter.fit(features);"
   ]
  },
  {
   "cell_type": "code",
   "execution_count": 7,
   "metadata": {},
   "outputs": [],
   "source": [
    "polynomial_features = polynomial_converter.transform(features);"
   ]
  },
  {
   "cell_type": "code",
   "execution_count": 8,
   "metadata": {},
   "outputs": [],
   "source": [
    "feature_train, feature_test, label_train, label_test = train_test_split(polynomial_features, label, train_size=0.3, random_state= 42);"
   ]
  },
  {
   "cell_type": "code",
   "execution_count": 9,
   "metadata": {},
   "outputs": [],
   "source": [
    "learner = LinearRegression(n_jobs=4);"
   ]
  },
  {
   "cell_type": "code",
   "execution_count": 10,
   "metadata": {},
   "outputs": [],
   "source": [
    "learner.fit(feature_train, label_train);"
   ]
  },
  {
   "cell_type": "code",
   "execution_count": 11,
   "metadata": {},
   "outputs": [],
   "source": [
    "predictions = learner.predict(feature_test);"
   ]
  },
  {
   "cell_type": "code",
   "execution_count": 12,
   "metadata": {},
   "outputs": [
    {
     "name": "stdout",
     "output_type": "stream",
     "text": [
      "0.5471059221412709\n"
     ]
    }
   ],
   "source": [
    "#evaluate performance\n",
    "mean_abs_error = mean_absolute_error(label_test, predictions);\n",
    "print(mean_abs_error);"
   ]
  },
  {
   "cell_type": "code",
   "execution_count": 13,
   "metadata": {},
   "outputs": [
    {
     "name": "stdout",
     "output_type": "stream",
     "text": [
      "MSE: 0.5711532339026216\n",
      "MRE: 0.7557468054200571\n"
     ]
    }
   ],
   "source": [
    "mean_sqr_error = mean_squared_error(label_test, predictions)\n",
    "print(\"MSE: {0}\\nMRE: {1}\".format(mean_sqr_error, np.sqrt(mean_sqr_error)));"
   ]
  },
  {
   "cell_type": "code",
   "execution_count": 14,
   "metadata": {},
   "outputs": [
    {
     "data": {
      "text/plain": [
       "array([ 5.73827373e-02, -7.68763959e-03,  3.89203997e-02, -1.17439822e-04,\n",
       "        1.21663889e-03, -2.03488450e-04, -1.31907462e-05,  4.89757200e-04,\n",
       "       -1.11295149e-04])"
      ]
     },
     "execution_count": 14,
     "metadata": {},
     "output_type": "execute_result"
    }
   ],
   "source": [
    "learner.coef_"
   ]
  }
 ],
 "metadata": {
  "kernelspec": {
   "display_name": "Python 3",
   "language": "python",
   "name": "python3"
  },
  "language_info": {
   "codemirror_mode": {
    "name": "ipython",
    "version": 3
   },
   "file_extension": ".py",
   "mimetype": "text/x-python",
   "name": "python",
   "nbconvert_exporter": "python",
   "pygments_lexer": "ipython3",
   "version": "3.11.2"
  },
  "orig_nbformat": 4
 },
 "nbformat": 4,
 "nbformat_minor": 2
}
